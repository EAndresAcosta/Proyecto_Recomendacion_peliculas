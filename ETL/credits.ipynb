{
 "cells": [
  {
   "cell_type": "code",
   "execution_count": 1,
   "metadata": {},
   "outputs": [],
   "source": [
    "import numpy as np\n",
    "import pandas as pd\n",
    "import ast"
   ]
  },
  {
   "cell_type": "code",
   "execution_count": 2,
   "metadata": {},
   "outputs": [
    {
     "data": {
      "text/html": [
       "<div>\n",
       "<style scoped>\n",
       "    .dataframe tbody tr th:only-of-type {\n",
       "        vertical-align: middle;\n",
       "    }\n",
       "\n",
       "    .dataframe tbody tr th {\n",
       "        vertical-align: top;\n",
       "    }\n",
       "\n",
       "    .dataframe thead th {\n",
       "        text-align: right;\n",
       "    }\n",
       "</style>\n",
       "<table border=\"1\" class=\"dataframe\">\n",
       "  <thead>\n",
       "    <tr style=\"text-align: right;\">\n",
       "      <th></th>\n",
       "      <th>cast</th>\n",
       "      <th>crew</th>\n",
       "      <th>id</th>\n",
       "    </tr>\n",
       "  </thead>\n",
       "  <tbody>\n",
       "    <tr>\n",
       "      <th>0</th>\n",
       "      <td>[{'cast_id': 14, 'character': 'Woody (voice)',...</td>\n",
       "      <td>[{'credit_id': '52fe4284c3a36847f8024f49', 'de...</td>\n",
       "      <td>862</td>\n",
       "    </tr>\n",
       "    <tr>\n",
       "      <th>1</th>\n",
       "      <td>[{'cast_id': 1, 'character': 'Alan Parrish', '...</td>\n",
       "      <td>[{'credit_id': '52fe44bfc3a36847f80a7cd1', 'de...</td>\n",
       "      <td>8844</td>\n",
       "    </tr>\n",
       "    <tr>\n",
       "      <th>2</th>\n",
       "      <td>[{'cast_id': 2, 'character': 'Max Goldman', 'c...</td>\n",
       "      <td>[{'credit_id': '52fe466a9251416c75077a89', 'de...</td>\n",
       "      <td>15602</td>\n",
       "    </tr>\n",
       "  </tbody>\n",
       "</table>\n",
       "</div>"
      ],
      "text/plain": [
       "                                                cast  \\\n",
       "0  [{'cast_id': 14, 'character': 'Woody (voice)',...   \n",
       "1  [{'cast_id': 1, 'character': 'Alan Parrish', '...   \n",
       "2  [{'cast_id': 2, 'character': 'Max Goldman', 'c...   \n",
       "\n",
       "                                                crew     id  \n",
       "0  [{'credit_id': '52fe4284c3a36847f8024f49', 'de...    862  \n",
       "1  [{'credit_id': '52fe44bfc3a36847f80a7cd1', 'de...   8844  \n",
       "2  [{'credit_id': '52fe466a9251416c75077a89', 'de...  15602  "
      ]
     },
     "execution_count": 2,
     "metadata": {},
     "output_type": "execute_result"
    }
   ],
   "source": [
    "# Lectura del dataset de creditos\n",
    "credits = pd.read_csv('../Datasets/credits.csv', low_memory=False)\n",
    "credits.head(3)"
   ]
  },
  {
   "cell_type": "code",
   "execution_count": 3,
   "metadata": {},
   "outputs": [
    {
     "data": {
      "text/plain": [
       "cast    0\n",
       "crew    0\n",
       "id      0\n",
       "dtype: int64"
      ]
     },
     "execution_count": 3,
     "metadata": {},
     "output_type": "execute_result"
    }
   ],
   "source": [
    "# Verificamos la cantidad de regitros nulos por columna\n",
    "credits.isna().sum()"
   ]
  },
  {
   "cell_type": "markdown",
   "metadata": {},
   "source": [
    "# Desanidamos las columnas cast, crew, id y la volvemos un dataframe\n",
    "* Columna cast"
   ]
  },
  {
   "cell_type": "code",
   "execution_count": 4,
   "metadata": {},
   "outputs": [],
   "source": [
    "# Asegurarnos de que la columna cast sea interpretada correctamente como lista de diccionarios\n",
    "credits['cast'] = credits['cast'].apply(lambda x: ast.literal_eval(x))\n",
    "\n",
    "# Convertir cada elemento de la columna 'cast' en un DataFrame\n",
    "casting = credits['cast'].apply(pd.DataFrame)\n",
    "\n",
    "# Asignar un índice para cada fila en el DataFrame original\n",
    "credits['index'] = credits.index\n",
    "\n",
    "# Combinar todos los DataFrames individuales en uno solo\n",
    "#casting_expanded = pd.concat([df.assign(index=idx) for idx, df in casting.items()])\n",
    "\n",
    "# Añadir la columna 'id' al DataFrame desanidado y combinar todos los DataFrames individuales en uno solo\n",
    "casting_expanded = pd.concat([df.assign(id=credits.loc[idx, 'id']) for idx, df in casting.items()])"
   ]
  },
  {
   "cell_type": "code",
   "execution_count": 5,
   "metadata": {},
   "outputs": [],
   "source": [
    "# Eliminamos la columna 'index'\n",
    "casting_expanded = casting_expanded.drop(columns=['credit_id', 'cast_id', 'profile_path', 'order'])\t"
   ]
  },
  {
   "cell_type": "markdown",
   "metadata": {},
   "source": [
    "*Una lista de diccionarios que representa los actores del reparto de la película. Cada diccionario contiene información detallada sobre cada miembro del reparto.*"
   ]
  },
  {
   "cell_type": "code",
   "execution_count": 6,
   "metadata": {},
   "outputs": [
    {
     "data": {
      "text/html": [
       "<div>\n",
       "<style scoped>\n",
       "    .dataframe tbody tr th:only-of-type {\n",
       "        vertical-align: middle;\n",
       "    }\n",
       "\n",
       "    .dataframe tbody tr th {\n",
       "        vertical-align: top;\n",
       "    }\n",
       "\n",
       "    .dataframe thead th {\n",
       "        text-align: right;\n",
       "    }\n",
       "</style>\n",
       "<table border=\"1\" class=\"dataframe\">\n",
       "  <thead>\n",
       "    <tr style=\"text-align: right;\">\n",
       "      <th></th>\n",
       "      <th>character</th>\n",
       "      <th>gender</th>\n",
       "      <th>id</th>\n",
       "      <th>name</th>\n",
       "    </tr>\n",
       "  </thead>\n",
       "  <tbody>\n",
       "    <tr>\n",
       "      <th>0</th>\n",
       "      <td>Woody (voice)</td>\n",
       "      <td>2.0</td>\n",
       "      <td>862</td>\n",
       "      <td>Tom Hanks</td>\n",
       "    </tr>\n",
       "    <tr>\n",
       "      <th>1</th>\n",
       "      <td>Buzz Lightyear (voice)</td>\n",
       "      <td>2.0</td>\n",
       "      <td>862</td>\n",
       "      <td>Tim Allen</td>\n",
       "    </tr>\n",
       "    <tr>\n",
       "      <th>2</th>\n",
       "      <td>Mr. Potato Head (voice)</td>\n",
       "      <td>2.0</td>\n",
       "      <td>862</td>\n",
       "      <td>Don Rickles</td>\n",
       "    </tr>\n",
       "    <tr>\n",
       "      <th>3</th>\n",
       "      <td>Slinky Dog (voice)</td>\n",
       "      <td>2.0</td>\n",
       "      <td>862</td>\n",
       "      <td>Jim Varney</td>\n",
       "    </tr>\n",
       "    <tr>\n",
       "      <th>4</th>\n",
       "      <td>Rex (voice)</td>\n",
       "      <td>2.0</td>\n",
       "      <td>862</td>\n",
       "      <td>Wallace Shawn</td>\n",
       "    </tr>\n",
       "  </tbody>\n",
       "</table>\n",
       "</div>"
      ],
      "text/plain": [
       "                 character  gender   id           name\n",
       "0            Woody (voice)     2.0  862      Tom Hanks\n",
       "1   Buzz Lightyear (voice)     2.0  862      Tim Allen\n",
       "2  Mr. Potato Head (voice)     2.0  862    Don Rickles\n",
       "3       Slinky Dog (voice)     2.0  862     Jim Varney\n",
       "4              Rex (voice)     2.0  862  Wallace Shawn"
      ]
     },
     "execution_count": 6,
     "metadata": {},
     "output_type": "execute_result"
    }
   ],
   "source": [
    "casting_expanded.head()"
   ]
  },
  {
   "cell_type": "markdown",
   "metadata": {},
   "source": [
    "* Columna crew"
   ]
  },
  {
   "cell_type": "code",
   "execution_count": 7,
   "metadata": {},
   "outputs": [],
   "source": [
    "# Asegurarnos de que la columna cast sea interpretada correctamente como lista de diccionarios\n",
    "credits['crew'] = credits['crew'].apply(lambda x: ast.literal_eval(x))\n",
    "\n",
    "# Convertir cada elemento de la columna 'crew' en un DataFrame\n",
    "crew_1 = credits['crew'].apply(pd.DataFrame)\n",
    "\n",
    "# Asignar un índice para cada fila en el DataFrame original\n",
    "credits['index'] = credits.index\n",
    "\n",
    "# Combinar todos los DataFrames individuales en uno solo\n",
    "#crew_expanded = pd.concat([df.assign(index=idx) for idx, df in crew_1.items()])\n",
    "\n",
    "# Añadir la columna 'id' al DataFrame desanidado y combinar todos los DataFrames individuales en uno solo\n",
    "crew_expanded = pd.concat([df.assign(id=credits.loc[idx, 'id']) for idx, df in crew_1.items()])"
   ]
  },
  {
   "cell_type": "code",
   "execution_count": 8,
   "metadata": {},
   "outputs": [],
   "source": [
    "# Eliminamos la columna 'index'\n",
    "crew_expanded = crew_expanded.drop(columns=['credit_id', 'profile_path'])\t"
   ]
  },
  {
   "cell_type": "markdown",
   "metadata": {},
   "source": [
    "*Una lista de diccionarios que representa los miembros del equipo de producción de la película. Cada diccionario contiene información detallada sobre cada miembro del equipo.*"
   ]
  },
  {
   "cell_type": "code",
   "execution_count": 9,
   "metadata": {},
   "outputs": [
    {
     "data": {
      "text/html": [
       "<div>\n",
       "<style scoped>\n",
       "    .dataframe tbody tr th:only-of-type {\n",
       "        vertical-align: middle;\n",
       "    }\n",
       "\n",
       "    .dataframe tbody tr th {\n",
       "        vertical-align: top;\n",
       "    }\n",
       "\n",
       "    .dataframe thead th {\n",
       "        text-align: right;\n",
       "    }\n",
       "</style>\n",
       "<table border=\"1\" class=\"dataframe\">\n",
       "  <thead>\n",
       "    <tr style=\"text-align: right;\">\n",
       "      <th></th>\n",
       "      <th>department</th>\n",
       "      <th>gender</th>\n",
       "      <th>id</th>\n",
       "      <th>job</th>\n",
       "      <th>name</th>\n",
       "    </tr>\n",
       "  </thead>\n",
       "  <tbody>\n",
       "    <tr>\n",
       "      <th>0</th>\n",
       "      <td>Directing</td>\n",
       "      <td>2.0</td>\n",
       "      <td>862</td>\n",
       "      <td>Director</td>\n",
       "      <td>John Lasseter</td>\n",
       "    </tr>\n",
       "    <tr>\n",
       "      <th>1</th>\n",
       "      <td>Writing</td>\n",
       "      <td>2.0</td>\n",
       "      <td>862</td>\n",
       "      <td>Screenplay</td>\n",
       "      <td>Joss Whedon</td>\n",
       "    </tr>\n",
       "    <tr>\n",
       "      <th>2</th>\n",
       "      <td>Writing</td>\n",
       "      <td>2.0</td>\n",
       "      <td>862</td>\n",
       "      <td>Screenplay</td>\n",
       "      <td>Andrew Stanton</td>\n",
       "    </tr>\n",
       "    <tr>\n",
       "      <th>3</th>\n",
       "      <td>Writing</td>\n",
       "      <td>2.0</td>\n",
       "      <td>862</td>\n",
       "      <td>Screenplay</td>\n",
       "      <td>Joel Cohen</td>\n",
       "    </tr>\n",
       "    <tr>\n",
       "      <th>4</th>\n",
       "      <td>Writing</td>\n",
       "      <td>0.0</td>\n",
       "      <td>862</td>\n",
       "      <td>Screenplay</td>\n",
       "      <td>Alec Sokolow</td>\n",
       "    </tr>\n",
       "  </tbody>\n",
       "</table>\n",
       "</div>"
      ],
      "text/plain": [
       "  department  gender   id         job            name\n",
       "0  Directing     2.0  862    Director   John Lasseter\n",
       "1    Writing     2.0  862  Screenplay     Joss Whedon\n",
       "2    Writing     2.0  862  Screenplay  Andrew Stanton\n",
       "3    Writing     2.0  862  Screenplay      Joel Cohen\n",
       "4    Writing     0.0  862  Screenplay    Alec Sokolow"
      ]
     },
     "execution_count": 9,
     "metadata": {},
     "output_type": "execute_result"
    }
   ],
   "source": [
    "crew_expanded.head()"
   ]
  },
  {
   "cell_type": "markdown",
   "metadata": {},
   "source": [
    "* Columna id"
   ]
  },
  {
   "cell_type": "code",
   "execution_count": 10,
   "metadata": {},
   "outputs": [
    {
     "data": {
      "text/plain": [
       "0      862\n",
       "1     8844\n",
       "2    15602\n",
       "3    31357\n",
       "4    11862\n",
       "Name: id, dtype: int64"
      ]
     },
     "execution_count": 10,
     "metadata": {},
     "output_type": "execute_result"
    }
   ],
   "source": [
    "col_id = credits['id']\n",
    "col_id.head()"
   ]
  },
  {
   "cell_type": "markdown",
   "metadata": {},
   "source": [
    "* Verificamos si hay valores nulos de cada dataframe"
   ]
  },
  {
   "cell_type": "code",
   "execution_count": 11,
   "metadata": {},
   "outputs": [
    {
     "name": "stdout",
     "output_type": "stream",
     "text": [
      "character    0\n",
      "gender       0\n",
      "id           0\n",
      "name         0\n",
      "dtype: int64\n",
      "department    0\n",
      "gender        0\n",
      "id            0\n",
      "job           0\n",
      "name          0\n",
      "dtype: int64\n",
      "0\n"
     ]
    }
   ],
   "source": [
    "print(casting_expanded.isna().sum())\n",
    "print(crew_expanded.isna().sum())\n",
    "print(col_id.isna().sum())"
   ]
  },
  {
   "cell_type": "markdown",
   "metadata": {},
   "source": [
    "### Exportamos los datasets a csv"
   ]
  },
  {
   "cell_type": "code",
   "execution_count": 12,
   "metadata": {},
   "outputs": [],
   "source": [
    "# casting_expanded.to_csv('../Datasets/casting_expanded.csv', index=True)\n",
    "# casting_expanded.to_parquet('../Datasets/casting_expanded.parquet', index=True)\n",
    "# crew_expanded.to_csv('../Datasets/crew_expanded.csv', index=True)\n",
    "# crew_expanded.to_parquet('../Datasets/crew_expanded.parquet', index=True)\n",
    "# col_id.to_csv('../Datasets/col_id.csv', index=True)"
   ]
  },
  {
   "cell_type": "markdown",
   "metadata": {},
   "source": [
    "## Vamos a crear un dataframe para los endpoints 5 y 6"
   ]
  },
  {
   "cell_type": "code",
   "execution_count": 13,
   "metadata": {},
   "outputs": [],
   "source": [
    "# Cargamos el dataset de peliculas\n",
    "movies_2 = pd.read_csv('../Datasets/movies.csv', low_memory=False)"
   ]
  },
  {
   "cell_type": "code",
   "execution_count": 14,
   "metadata": {},
   "outputs": [
    {
     "data": {
      "text/html": [
       "<div>\n",
       "<style scoped>\n",
       "    .dataframe tbody tr th:only-of-type {\n",
       "        vertical-align: middle;\n",
       "    }\n",
       "\n",
       "    .dataframe tbody tr th {\n",
       "        vertical-align: top;\n",
       "    }\n",
       "\n",
       "    .dataframe thead th {\n",
       "        text-align: right;\n",
       "    }\n",
       "</style>\n",
       "<table border=\"1\" class=\"dataframe\">\n",
       "  <thead>\n",
       "    <tr style=\"text-align: right;\">\n",
       "      <th></th>\n",
       "      <th>budget</th>\n",
       "      <th>id_movie</th>\n",
       "      <th>popularity</th>\n",
       "      <th>release_date</th>\n",
       "      <th>revenue</th>\n",
       "      <th>runtime</th>\n",
       "      <th>title</th>\n",
       "      <th>vote_average</th>\n",
       "      <th>vote_count</th>\n",
       "      <th>release_year</th>\n",
       "      <th>return</th>\n",
       "      <th>genre_id</th>\n",
       "      <th>genre_name</th>\n",
       "    </tr>\n",
       "  </thead>\n",
       "  <tbody>\n",
       "    <tr>\n",
       "      <th>0</th>\n",
       "      <td>30000000.0</td>\n",
       "      <td>862</td>\n",
       "      <td>21.946943</td>\n",
       "      <td>1995-10-30</td>\n",
       "      <td>373554033.0</td>\n",
       "      <td>81.0</td>\n",
       "      <td>Toy Story</td>\n",
       "      <td>7.7</td>\n",
       "      <td>5415.0</td>\n",
       "      <td>1995</td>\n",
       "      <td>12.451801</td>\n",
       "      <td>16.0</td>\n",
       "      <td>Animation</td>\n",
       "    </tr>\n",
       "    <tr>\n",
       "      <th>1</th>\n",
       "      <td>30000000.0</td>\n",
       "      <td>862</td>\n",
       "      <td>21.946943</td>\n",
       "      <td>1995-10-30</td>\n",
       "      <td>373554033.0</td>\n",
       "      <td>81.0</td>\n",
       "      <td>Toy Story</td>\n",
       "      <td>7.7</td>\n",
       "      <td>5415.0</td>\n",
       "      <td>1995</td>\n",
       "      <td>12.451801</td>\n",
       "      <td>35.0</td>\n",
       "      <td>Comedy</td>\n",
       "    </tr>\n",
       "    <tr>\n",
       "      <th>2</th>\n",
       "      <td>30000000.0</td>\n",
       "      <td>862</td>\n",
       "      <td>21.946943</td>\n",
       "      <td>1995-10-30</td>\n",
       "      <td>373554033.0</td>\n",
       "      <td>81.0</td>\n",
       "      <td>Toy Story</td>\n",
       "      <td>7.7</td>\n",
       "      <td>5415.0</td>\n",
       "      <td>1995</td>\n",
       "      <td>12.451801</td>\n",
       "      <td>10751.0</td>\n",
       "      <td>Family</td>\n",
       "    </tr>\n",
       "    <tr>\n",
       "      <th>3</th>\n",
       "      <td>65000000.0</td>\n",
       "      <td>8844</td>\n",
       "      <td>17.015539</td>\n",
       "      <td>1995-12-15</td>\n",
       "      <td>262797249.0</td>\n",
       "      <td>104.0</td>\n",
       "      <td>Jumanji</td>\n",
       "      <td>6.9</td>\n",
       "      <td>2413.0</td>\n",
       "      <td>1995</td>\n",
       "      <td>4.043035</td>\n",
       "      <td>12.0</td>\n",
       "      <td>Adventure</td>\n",
       "    </tr>\n",
       "    <tr>\n",
       "      <th>4</th>\n",
       "      <td>65000000.0</td>\n",
       "      <td>8844</td>\n",
       "      <td>17.015539</td>\n",
       "      <td>1995-12-15</td>\n",
       "      <td>262797249.0</td>\n",
       "      <td>104.0</td>\n",
       "      <td>Jumanji</td>\n",
       "      <td>6.9</td>\n",
       "      <td>2413.0</td>\n",
       "      <td>1995</td>\n",
       "      <td>4.043035</td>\n",
       "      <td>14.0</td>\n",
       "      <td>Fantasy</td>\n",
       "    </tr>\n",
       "  </tbody>\n",
       "</table>\n",
       "</div>"
      ],
      "text/plain": [
       "       budget id_movie  popularity release_date      revenue  runtime  \\\n",
       "0  30000000.0      862   21.946943   1995-10-30  373554033.0     81.0   \n",
       "1  30000000.0      862   21.946943   1995-10-30  373554033.0     81.0   \n",
       "2  30000000.0      862   21.946943   1995-10-30  373554033.0     81.0   \n",
       "3  65000000.0     8844   17.015539   1995-12-15  262797249.0    104.0   \n",
       "4  65000000.0     8844   17.015539   1995-12-15  262797249.0    104.0   \n",
       "\n",
       "       title  vote_average  vote_count  release_year     return  genre_id  \\\n",
       "0  Toy Story           7.7      5415.0          1995  12.451801      16.0   \n",
       "1  Toy Story           7.7      5415.0          1995  12.451801      35.0   \n",
       "2  Toy Story           7.7      5415.0          1995  12.451801   10751.0   \n",
       "3    Jumanji           6.9      2413.0          1995   4.043035      12.0   \n",
       "4    Jumanji           6.9      2413.0          1995   4.043035      14.0   \n",
       "\n",
       "  genre_name  \n",
       "0  Animation  \n",
       "1     Comedy  \n",
       "2     Family  \n",
       "3  Adventure  \n",
       "4    Fantasy  "
      ]
     },
     "execution_count": 14,
     "metadata": {},
     "output_type": "execute_result"
    }
   ],
   "source": [
    "movies_2.head()"
   ]
  },
  {
   "cell_type": "code",
   "execution_count": 15,
   "metadata": {},
   "outputs": [],
   "source": [
    "# Asegurarse de que la columna 'id' sea del mismo tipo en todos los DataFrames\n",
    "movies_2['id_movie'] = movies_2['id_movie'].astype(str)\n",
    "casting_expanded['id'] = casting_expanded['id'].astype(str)\n",
    "crew_expanded['id'] = crew_expanded['id'].astype(str)"
   ]
  },
  {
   "cell_type": "code",
   "execution_count": 16,
   "metadata": {},
   "outputs": [],
   "source": [
    "movies_2 = movies_2.rename(columns={'id_movie':'id'})"
   ]
  },
  {
   "cell_type": "code",
   "execution_count": 17,
   "metadata": {},
   "outputs": [],
   "source": [
    "# Realizamos la union de los df de movies y casting\n",
    "union_mcasting = pd.merge(movies_2, casting_expanded, on='id', how='inner')"
   ]
  },
  {
   "cell_type": "code",
   "execution_count": 18,
   "metadata": {},
   "outputs": [],
   "source": [
    "# Realizamos la union de los df de movies y crew\n",
    "union_mcrew = pd.merge(movies_2, crew_expanded, on='id', how='inner')"
   ]
  },
  {
   "cell_type": "code",
   "execution_count": 19,
   "metadata": {},
   "outputs": [
    {
     "data": {
      "text/html": [
       "<div>\n",
       "<style scoped>\n",
       "    .dataframe tbody tr th:only-of-type {\n",
       "        vertical-align: middle;\n",
       "    }\n",
       "\n",
       "    .dataframe tbody tr th {\n",
       "        vertical-align: top;\n",
       "    }\n",
       "\n",
       "    .dataframe thead th {\n",
       "        text-align: right;\n",
       "    }\n",
       "</style>\n",
       "<table border=\"1\" class=\"dataframe\">\n",
       "  <thead>\n",
       "    <tr style=\"text-align: right;\">\n",
       "      <th></th>\n",
       "      <th>budget</th>\n",
       "      <th>id</th>\n",
       "      <th>popularity</th>\n",
       "      <th>release_date</th>\n",
       "      <th>revenue</th>\n",
       "      <th>runtime</th>\n",
       "      <th>title</th>\n",
       "      <th>vote_average</th>\n",
       "      <th>vote_count</th>\n",
       "      <th>release_year</th>\n",
       "      <th>return</th>\n",
       "      <th>genre_id</th>\n",
       "      <th>genre_name</th>\n",
       "      <th>character</th>\n",
       "      <th>gender</th>\n",
       "      <th>name</th>\n",
       "    </tr>\n",
       "  </thead>\n",
       "  <tbody>\n",
       "    <tr>\n",
       "      <th>0</th>\n",
       "      <td>30000000.0</td>\n",
       "      <td>862</td>\n",
       "      <td>21.946943</td>\n",
       "      <td>1995-10-30</td>\n",
       "      <td>373554033.0</td>\n",
       "      <td>81.0</td>\n",
       "      <td>Toy Story</td>\n",
       "      <td>7.7</td>\n",
       "      <td>5415.0</td>\n",
       "      <td>1995</td>\n",
       "      <td>12.451801</td>\n",
       "      <td>16.0</td>\n",
       "      <td>Animation</td>\n",
       "      <td>Woody (voice)</td>\n",
       "      <td>2.0</td>\n",
       "      <td>Tom Hanks</td>\n",
       "    </tr>\n",
       "    <tr>\n",
       "      <th>1</th>\n",
       "      <td>30000000.0</td>\n",
       "      <td>862</td>\n",
       "      <td>21.946943</td>\n",
       "      <td>1995-10-30</td>\n",
       "      <td>373554033.0</td>\n",
       "      <td>81.0</td>\n",
       "      <td>Toy Story</td>\n",
       "      <td>7.7</td>\n",
       "      <td>5415.0</td>\n",
       "      <td>1995</td>\n",
       "      <td>12.451801</td>\n",
       "      <td>16.0</td>\n",
       "      <td>Animation</td>\n",
       "      <td>Buzz Lightyear (voice)</td>\n",
       "      <td>2.0</td>\n",
       "      <td>Tim Allen</td>\n",
       "    </tr>\n",
       "    <tr>\n",
       "      <th>2</th>\n",
       "      <td>30000000.0</td>\n",
       "      <td>862</td>\n",
       "      <td>21.946943</td>\n",
       "      <td>1995-10-30</td>\n",
       "      <td>373554033.0</td>\n",
       "      <td>81.0</td>\n",
       "      <td>Toy Story</td>\n",
       "      <td>7.7</td>\n",
       "      <td>5415.0</td>\n",
       "      <td>1995</td>\n",
       "      <td>12.451801</td>\n",
       "      <td>16.0</td>\n",
       "      <td>Animation</td>\n",
       "      <td>Mr. Potato Head (voice)</td>\n",
       "      <td>2.0</td>\n",
       "      <td>Don Rickles</td>\n",
       "    </tr>\n",
       "    <tr>\n",
       "      <th>3</th>\n",
       "      <td>30000000.0</td>\n",
       "      <td>862</td>\n",
       "      <td>21.946943</td>\n",
       "      <td>1995-10-30</td>\n",
       "      <td>373554033.0</td>\n",
       "      <td>81.0</td>\n",
       "      <td>Toy Story</td>\n",
       "      <td>7.7</td>\n",
       "      <td>5415.0</td>\n",
       "      <td>1995</td>\n",
       "      <td>12.451801</td>\n",
       "      <td>16.0</td>\n",
       "      <td>Animation</td>\n",
       "      <td>Slinky Dog (voice)</td>\n",
       "      <td>2.0</td>\n",
       "      <td>Jim Varney</td>\n",
       "    </tr>\n",
       "    <tr>\n",
       "      <th>4</th>\n",
       "      <td>30000000.0</td>\n",
       "      <td>862</td>\n",
       "      <td>21.946943</td>\n",
       "      <td>1995-10-30</td>\n",
       "      <td>373554033.0</td>\n",
       "      <td>81.0</td>\n",
       "      <td>Toy Story</td>\n",
       "      <td>7.7</td>\n",
       "      <td>5415.0</td>\n",
       "      <td>1995</td>\n",
       "      <td>12.451801</td>\n",
       "      <td>16.0</td>\n",
       "      <td>Animation</td>\n",
       "      <td>Rex (voice)</td>\n",
       "      <td>2.0</td>\n",
       "      <td>Wallace Shawn</td>\n",
       "    </tr>\n",
       "  </tbody>\n",
       "</table>\n",
       "</div>"
      ],
      "text/plain": [
       "       budget   id  popularity release_date      revenue  runtime      title  \\\n",
       "0  30000000.0  862   21.946943   1995-10-30  373554033.0     81.0  Toy Story   \n",
       "1  30000000.0  862   21.946943   1995-10-30  373554033.0     81.0  Toy Story   \n",
       "2  30000000.0  862   21.946943   1995-10-30  373554033.0     81.0  Toy Story   \n",
       "3  30000000.0  862   21.946943   1995-10-30  373554033.0     81.0  Toy Story   \n",
       "4  30000000.0  862   21.946943   1995-10-30  373554033.0     81.0  Toy Story   \n",
       "\n",
       "   vote_average  vote_count  release_year     return  genre_id genre_name  \\\n",
       "0           7.7      5415.0          1995  12.451801      16.0  Animation   \n",
       "1           7.7      5415.0          1995  12.451801      16.0  Animation   \n",
       "2           7.7      5415.0          1995  12.451801      16.0  Animation   \n",
       "3           7.7      5415.0          1995  12.451801      16.0  Animation   \n",
       "4           7.7      5415.0          1995  12.451801      16.0  Animation   \n",
       "\n",
       "                 character  gender           name  \n",
       "0            Woody (voice)     2.0      Tom Hanks  \n",
       "1   Buzz Lightyear (voice)     2.0      Tim Allen  \n",
       "2  Mr. Potato Head (voice)     2.0    Don Rickles  \n",
       "3       Slinky Dog (voice)     2.0     Jim Varney  \n",
       "4              Rex (voice)     2.0  Wallace Shawn  "
      ]
     },
     "execution_count": 19,
     "metadata": {},
     "output_type": "execute_result"
    }
   ],
   "source": [
    "union_mcasting.head()"
   ]
  },
  {
   "cell_type": "code",
   "execution_count": 20,
   "metadata": {},
   "outputs": [
    {
     "data": {
      "text/html": [
       "<div>\n",
       "<style scoped>\n",
       "    .dataframe tbody tr th:only-of-type {\n",
       "        vertical-align: middle;\n",
       "    }\n",
       "\n",
       "    .dataframe tbody tr th {\n",
       "        vertical-align: top;\n",
       "    }\n",
       "\n",
       "    .dataframe thead th {\n",
       "        text-align: right;\n",
       "    }\n",
       "</style>\n",
       "<table border=\"1\" class=\"dataframe\">\n",
       "  <thead>\n",
       "    <tr style=\"text-align: right;\">\n",
       "      <th></th>\n",
       "      <th>budget</th>\n",
       "      <th>id</th>\n",
       "      <th>popularity</th>\n",
       "      <th>release_date</th>\n",
       "      <th>revenue</th>\n",
       "      <th>runtime</th>\n",
       "      <th>title</th>\n",
       "      <th>vote_average</th>\n",
       "      <th>vote_count</th>\n",
       "      <th>release_year</th>\n",
       "      <th>return</th>\n",
       "      <th>genre_id</th>\n",
       "      <th>genre_name</th>\n",
       "      <th>department</th>\n",
       "      <th>gender</th>\n",
       "      <th>job</th>\n",
       "      <th>name</th>\n",
       "    </tr>\n",
       "  </thead>\n",
       "  <tbody>\n",
       "    <tr>\n",
       "      <th>0</th>\n",
       "      <td>30000000.0</td>\n",
       "      <td>862</td>\n",
       "      <td>21.946943</td>\n",
       "      <td>1995-10-30</td>\n",
       "      <td>373554033.0</td>\n",
       "      <td>81.0</td>\n",
       "      <td>Toy Story</td>\n",
       "      <td>7.7</td>\n",
       "      <td>5415.0</td>\n",
       "      <td>1995</td>\n",
       "      <td>12.451801</td>\n",
       "      <td>16.0</td>\n",
       "      <td>Animation</td>\n",
       "      <td>Directing</td>\n",
       "      <td>2.0</td>\n",
       "      <td>Director</td>\n",
       "      <td>John Lasseter</td>\n",
       "    </tr>\n",
       "    <tr>\n",
       "      <th>1</th>\n",
       "      <td>30000000.0</td>\n",
       "      <td>862</td>\n",
       "      <td>21.946943</td>\n",
       "      <td>1995-10-30</td>\n",
       "      <td>373554033.0</td>\n",
       "      <td>81.0</td>\n",
       "      <td>Toy Story</td>\n",
       "      <td>7.7</td>\n",
       "      <td>5415.0</td>\n",
       "      <td>1995</td>\n",
       "      <td>12.451801</td>\n",
       "      <td>16.0</td>\n",
       "      <td>Animation</td>\n",
       "      <td>Writing</td>\n",
       "      <td>2.0</td>\n",
       "      <td>Screenplay</td>\n",
       "      <td>Joss Whedon</td>\n",
       "    </tr>\n",
       "    <tr>\n",
       "      <th>2</th>\n",
       "      <td>30000000.0</td>\n",
       "      <td>862</td>\n",
       "      <td>21.946943</td>\n",
       "      <td>1995-10-30</td>\n",
       "      <td>373554033.0</td>\n",
       "      <td>81.0</td>\n",
       "      <td>Toy Story</td>\n",
       "      <td>7.7</td>\n",
       "      <td>5415.0</td>\n",
       "      <td>1995</td>\n",
       "      <td>12.451801</td>\n",
       "      <td>16.0</td>\n",
       "      <td>Animation</td>\n",
       "      <td>Writing</td>\n",
       "      <td>2.0</td>\n",
       "      <td>Screenplay</td>\n",
       "      <td>Andrew Stanton</td>\n",
       "    </tr>\n",
       "    <tr>\n",
       "      <th>3</th>\n",
       "      <td>30000000.0</td>\n",
       "      <td>862</td>\n",
       "      <td>21.946943</td>\n",
       "      <td>1995-10-30</td>\n",
       "      <td>373554033.0</td>\n",
       "      <td>81.0</td>\n",
       "      <td>Toy Story</td>\n",
       "      <td>7.7</td>\n",
       "      <td>5415.0</td>\n",
       "      <td>1995</td>\n",
       "      <td>12.451801</td>\n",
       "      <td>16.0</td>\n",
       "      <td>Animation</td>\n",
       "      <td>Writing</td>\n",
       "      <td>2.0</td>\n",
       "      <td>Screenplay</td>\n",
       "      <td>Joel Cohen</td>\n",
       "    </tr>\n",
       "    <tr>\n",
       "      <th>4</th>\n",
       "      <td>30000000.0</td>\n",
       "      <td>862</td>\n",
       "      <td>21.946943</td>\n",
       "      <td>1995-10-30</td>\n",
       "      <td>373554033.0</td>\n",
       "      <td>81.0</td>\n",
       "      <td>Toy Story</td>\n",
       "      <td>7.7</td>\n",
       "      <td>5415.0</td>\n",
       "      <td>1995</td>\n",
       "      <td>12.451801</td>\n",
       "      <td>16.0</td>\n",
       "      <td>Animation</td>\n",
       "      <td>Writing</td>\n",
       "      <td>0.0</td>\n",
       "      <td>Screenplay</td>\n",
       "      <td>Alec Sokolow</td>\n",
       "    </tr>\n",
       "  </tbody>\n",
       "</table>\n",
       "</div>"
      ],
      "text/plain": [
       "       budget   id  popularity release_date      revenue  runtime      title  \\\n",
       "0  30000000.0  862   21.946943   1995-10-30  373554033.0     81.0  Toy Story   \n",
       "1  30000000.0  862   21.946943   1995-10-30  373554033.0     81.0  Toy Story   \n",
       "2  30000000.0  862   21.946943   1995-10-30  373554033.0     81.0  Toy Story   \n",
       "3  30000000.0  862   21.946943   1995-10-30  373554033.0     81.0  Toy Story   \n",
       "4  30000000.0  862   21.946943   1995-10-30  373554033.0     81.0  Toy Story   \n",
       "\n",
       "   vote_average  vote_count  release_year     return  genre_id genre_name  \\\n",
       "0           7.7      5415.0          1995  12.451801      16.0  Animation   \n",
       "1           7.7      5415.0          1995  12.451801      16.0  Animation   \n",
       "2           7.7      5415.0          1995  12.451801      16.0  Animation   \n",
       "3           7.7      5415.0          1995  12.451801      16.0  Animation   \n",
       "4           7.7      5415.0          1995  12.451801      16.0  Animation   \n",
       "\n",
       "  department  gender         job            name  \n",
       "0  Directing     2.0    Director   John Lasseter  \n",
       "1    Writing     2.0  Screenplay     Joss Whedon  \n",
       "2    Writing     2.0  Screenplay  Andrew Stanton  \n",
       "3    Writing     2.0  Screenplay      Joel Cohen  \n",
       "4    Writing     0.0  Screenplay    Alec Sokolow  "
      ]
     },
     "execution_count": 20,
     "metadata": {},
     "output_type": "execute_result"
    }
   ],
   "source": [
    "union_mcrew.head()"
   ]
  },
  {
   "cell_type": "code",
   "execution_count": 21,
   "metadata": {},
   "outputs": [],
   "source": [
    "endpoint_casting = union_mcasting[['name', 'id', 'title', 'genre_name', 'return', 'release_date']]\n",
    "endpoint_crew = union_mcrew[['name', 'job', 'id', 'title', 'return', 'budget', 'revenue', 'release_date']]"
   ]
  },
  {
   "cell_type": "markdown",
   "metadata": {},
   "source": [
    "## Exportamos los dfs nuevos"
   ]
  },
  {
   "cell_type": "code",
   "execution_count": 22,
   "metadata": {},
   "outputs": [],
   "source": [
    "endpoint_casting.to_parquet('../Datasets/endpoint_casting.parquet', index=False, compression='zstd')\n",
    "endpoint_crew.to_parquet('../Datasets/endpoint_crew.parquet', index=False, compression='zstd')"
   ]
  },
  {
   "cell_type": "code",
   "execution_count": 23,
   "metadata": {},
   "outputs": [],
   "source": [
    "union_mcasting.to_parquet('../Datasets/union_mcasting.parquet', index=False, compression='snappy')\n",
    "union_mcrew.to_parquet('../Datasets/union_mcrew.parquet', index=False, compression='snappy')"
   ]
  }
 ],
 "metadata": {
  "kernelspec": {
   "display_name": "venv",
   "language": "python",
   "name": "python3"
  },
  "language_info": {
   "codemirror_mode": {
    "name": "ipython",
    "version": 3
   },
   "file_extension": ".py",
   "mimetype": "text/x-python",
   "name": "python",
   "nbconvert_exporter": "python",
   "pygments_lexer": "ipython3",
   "version": "3.12.3"
  }
 },
 "nbformat": 4,
 "nbformat_minor": 2
}
