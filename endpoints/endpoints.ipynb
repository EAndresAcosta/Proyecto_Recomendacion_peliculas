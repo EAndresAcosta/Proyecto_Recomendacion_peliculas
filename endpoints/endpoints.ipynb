{
 "cells": [
  {
   "cell_type": "markdown",
   "metadata": {},
   "source": [
    "# Pruebas de los endpoints"
   ]
  },
  {
   "cell_type": "markdown",
   "metadata": {},
   "source": [
    "## 1 endpoints\n",
    "* def cantidad_filmaciones_mes( Mes ): Se ingresa un mes en idioma Español. Debe devolver la cantidad de películas que fueron estrenadas en el mes consultado en la totalidad del dataset.\n",
    "\n",
    "Ejemplo de retorno: X cantidad de películas fueron estrenadas en el mes de X"
   ]
  },
  {
   "cell_type": "code",
   "execution_count": 3,
   "metadata": {},
   "outputs": [
    {
     "name": "stdout",
     "output_type": "stream",
     "text": [
      "5912 cantidad de películas fueron estrenadas en el mes de Enero.\n"
     ]
    }
   ],
   "source": [
    "import pandas as pd\n",
    "\n",
    "movies = pd.read_parquet('../Datasets/movies.parquet')\n",
    "\n",
    "# Asegurarse de que release_date esté en formato de fecha\n",
    "movies['release_date'] = pd.to_datetime(movies['release_date'], errors='coerce')\n",
    "\n",
    "# Crear la función\n",
    "def cantidad_filmaciones_mes(mes):\n",
    "    # Crear un diccionario para mapear nombres de meses en español con números\n",
    "    meses = {\n",
    "        'enero': 1, 'febrero': 2, 'marzo': 3, 'abril': 4,\n",
    "        'mayo': 5, 'junio': 6, 'julio': 7, 'agosto': 8,\n",
    "        'septiembre': 9, 'octubre': 10, 'noviembre': 11, 'diciembre': 12\n",
    "    }\n",
    "    \n",
    "    # Convertir el mes ingresado a su correspondiente número\n",
    "    mes_numero = meses.get(mes.lower())\n",
    "    \n",
    "    if not mes_numero:\n",
    "        return \"Mes ingresado no es válido.\"\n",
    "    \n",
    "    # Filtrar el dataframe por el mes\n",
    "    cantidad = movies[movies['release_date'].dt.month == mes_numero].shape[0]\n",
    "    \n",
    "    return f\"{cantidad} cantidad de películas fueron estrenadas en el mes de {mes.capitalize()}.\"\n",
    "\n",
    "# Ejemplo\n",
    "print(cantidad_filmaciones_mes('enero'))\n"
   ]
  },
  {
   "cell_type": "markdown",
   "metadata": {},
   "source": [
    "## 2 endpoint\n",
    "\n",
    "* def cantidad_filmaciones_dia( Dia ): Se ingresa un día en idioma Español. Debe devolver la cantidad de películas que fueron estrenadas en día consultado en la totalidad del dataset.\n",
    "\n",
    "Ejemplo de retorno: X cantidad de películas fueron estrenadas en los días X"
   ]
  },
  {
   "cell_type": "code",
   "execution_count": 4,
   "metadata": {},
   "outputs": [
    {
     "name": "stdout",
     "output_type": "stream",
     "text": [
      "7035 cantidad de películas fueron estrenadas en los días Miercoles.\n"
     ]
    }
   ],
   "source": [
    "import pandas as pd\n",
    "\n",
    "movies2 = pd.read_csv('../Datasets/movies.csv', low_memory=False)\n",
    "\n",
    "# Asegurarse de que release_date esté en formato de fecha\n",
    "movies2['release_date'] = pd.to_datetime(movies2['release_date'], errors='coerce')\n",
    "\n",
    "# Crear la función\n",
    "def cantidad_filmaciones_dia(dia):\n",
    "    # Crear un diccionario para mapear nombres de días en español con números\n",
    "    dias_semana = {\n",
    "        'lunes': 0, 'martes': 1, 'miércoles': 2, 'miercoles': 2, 'jueves': 3,\n",
    "        'viernes': 4, 'sábado': 5, 'sabado': 5, 'domingo': 6\n",
    "    }\n",
    "    \n",
    "    # Convertir el día ingresado a su correspondiente número\n",
    "    dia_numero = dias_semana.get(dia.lower())\n",
    "    \n",
    "    if dia_numero is None:\n",
    "        return \"Día ingresado no es válido.\"\n",
    "    \n",
    "    # Filtrar el dataframe por el día de la semana\n",
    "    cantidad = movies2[movies2['release_date'].dt.dayofweek == dia_numero].shape[0]\n",
    "    \n",
    "    return f\"{cantidad} cantidad de películas fueron estrenadas en los días {dia.capitalize()}.\"\n",
    "\n",
    "# Ejemplo\n",
    "print(cantidad_filmaciones_dia('miercoles'))\n"
   ]
  },
  {
   "cell_type": "markdown",
   "metadata": {},
   "source": [
    "## 3 endpoint\n",
    "\n",
    "* def score_titulo( titulo_de_la_filmación ): Se ingresa el título de una filmación esperando como respuesta el título, el año de estreno y el score.\n",
    "\n",
    "Ejemplo de retorno: La película X fue estrenada en el año X con un score/popularidad de X"
   ]
  },
  {
   "cell_type": "code",
   "execution_count": 1,
   "metadata": {},
   "outputs": [
    {
     "name": "stdout",
     "output_type": "stream",
     "text": [
      "La película Toy Story fue estrenada en el año 1995 con un score/popularidad de 21.95\n"
     ]
    }
   ],
   "source": [
    "import pandas as pd\n",
    "\n",
    "movies3 = pd.read_csv('../Datasets/movies.csv', low_memory=False)\n",
    "\n",
    "# Asegurarse de que release_date esté en formato de fecha\n",
    "movies3['release_date'] = pd.to_datetime(movies3['release_date'], errors='coerce')\n",
    "\n",
    "# Asegurarse de que popularity esté en formato numérico\n",
    "movies3['popularity'] = pd.to_numeric(movies3['popularity'], errors='coerce')\n",
    "\n",
    "# Crear la función\n",
    "def score_titulo(titulo_de_la_filmacion):\n",
    "    # Filtrar el DataFrame por el título de la filmación\n",
    "    pelicula = movies3[movies3['title'].str.lower() == titulo_de_la_filmacion.lower()]\n",
    "    \n",
    "    if pelicula.empty:\n",
    "        return f\"No se encontró ninguna película con el título '{titulo_de_la_filmacion}'.\"\n",
    "    \n",
    "    # Extraer la información relevante\n",
    "    titulo = pelicula.iloc[0]['title']\n",
    "    anio_estreno = pelicula.iloc[0]['release_date'].year\n",
    "    score = round(pelicula.iloc[0]['popularity'], 2) # Suponiendo que 'popularity' es la columna de score\n",
    "    \n",
    "    return f\"La película {titulo} fue estrenada en el año {anio_estreno} con un score/popularidad de {score}\"\n",
    "\n",
    "# Ejemplo\n",
    "print(score_titulo('Toy Story'))\n"
   ]
  },
  {
   "cell_type": "markdown",
   "metadata": {},
   "source": [
    "## 4 endpoint\n",
    "\n",
    "* def votos_titulo( titulo_de_la_filmación ): Se ingresa el título de una filmación esperando como respuesta el título, la cantidad de votos y el valor promedio de las votaciones. La misma variable deberá de contar con al menos 2000 valoraciones, caso contrario, debemos contar con un mensaje avisando que no cumple esta condición y que por ende, no se devuelve ningun valor.\n",
    "\n",
    "Ejemplo de retorno: La película X fue estrenada en el año X. La misma cuenta con un total de X valoraciones, con un promedio de X"
   ]
  },
  {
   "cell_type": "code",
   "execution_count": 6,
   "metadata": {},
   "outputs": [
    {
     "name": "stdout",
     "output_type": "stream",
     "text": [
      "La película Toy Story fue estrenada en el año 1995. La misma cuenta con un total de 5415.0 valoraciones, con un promedio de 7.7\n"
     ]
    }
   ],
   "source": [
    "import pandas as pd\n",
    "\n",
    "movies4 = pd.read_parquet('../Datasets/movies.parquet')\n",
    "\n",
    "# Asegurarse de que release_date esté en formato de fecha\n",
    "movies4['release_date'] = pd.to_datetime(movies4['release_date'], errors='coerce')\n",
    "\n",
    "# Crear la función\n",
    "def votos_titulo(titulo_de_la_filmacion):\n",
    "    # Filtrar el DataFrame por el título de la filmación\n",
    "    pelicula = movies4[movies4['title'].str.lower() == titulo_de_la_filmacion.lower()]\n",
    "    \n",
    "    if pelicula.empty:\n",
    "        return f\"No se encontró ninguna película con el título '{titulo_de_la_filmacion}'.\"\n",
    "    \n",
    "    # Extraer la cantidad de votos y el promedio de las votaciones\n",
    "    votos = pelicula.iloc[0]['vote_count']\n",
    "    promedio_votos = pelicula.iloc[0]['vote_average']\n",
    "    \n",
    "    if votos < 2000:\n",
    "        return f\"La película {pelicula.iloc[0]['title']} no cumple con el mínimo de 2000 valoraciones. Tiene {votos} valoraciones.\"\n",
    "\n",
    "    # Extraer el título y el año de estreno\n",
    "    titulo = pelicula.iloc[0]['title']\n",
    "    anio_estreno = pelicula.iloc[0]['release_date'].year\n",
    "    \n",
    "    return f\"La película {titulo} fue estrenada en el año {anio_estreno}. La misma cuenta con un total de {votos} valoraciones, con un promedio de {promedio_votos}\"\n",
    "\n",
    "# Ejemplo\n",
    "print(votos_titulo('toy story'))\n"
   ]
  },
  {
   "cell_type": "markdown",
   "metadata": {},
   "source": [
    "## 5 endpoint\n",
    "\n",
    "* def get_actor( nombre_actor ): Se ingresa el nombre de un actor que se encuentre dentro de un dataset debiendo devolver el éxito del mismo medido a través del retorno. Además, la cantidad de películas que en las que ha participado y el promedio de retorno. La definición no deberá considerar directores.\n",
    "\n",
    "Ejemplo de retorno: El actor X ha participado de X cantidad de filmaciones, el mismo ha conseguido un retorno de X con un promedio de X por filmación"
   ]
  },
  {
   "cell_type": "code",
   "execution_count": 7,
   "metadata": {},
   "outputs": [
    {
     "name": "stdout",
     "output_type": "stream",
     "text": [
      "El actor Robin Williams ha participado en 82 filmaciones, el mismo ha conseguido un retorno de 155.69 con un promedio de 1.90 por filmación.\n"
     ]
    }
   ],
   "source": [
    "import pandas as pd\n",
    "\n",
    "# Leer el archivo parquet\n",
    "movies5 = pd.read_parquet('../Datasets/union_mcasting.parquet')\n",
    "\n",
    "# Asegurarse de que release_date esté en formato de fecha\n",
    "movies5['release_date'] = pd.to_datetime(movies5['release_date'], errors='coerce')\n",
    "\n",
    "# Asegurarse de que 'name' no tenga valores nulos\n",
    "if movies5['name'].isnull().any():\n",
    "    movies5['name'] = movies5['name'].fillna('')  # Rellenar valores nulos con cadena vacía\n",
    "\n",
    "# Crear la función\n",
    "def get_actor(nombre_actor):\n",
    "    # Filtrar el DataFrame por el nombre del actor en la columna 'name'\n",
    "    peliculas_actor = movies5[movies5['name'].apply(lambda x: nombre_actor.lower() in x.lower())]\n",
    "    \n",
    "    if peliculas_actor.empty:\n",
    "        return f\"No se encontró ninguna película con el actor '{nombre_actor}'.\"\n",
    "    \n",
    "    # Calcular el éxito del actor medido a través del retorno\n",
    "    total_retorno = peliculas_actor['return'].sum()\n",
    "    cantidad_peliculas = peliculas_actor.shape[0]\n",
    "    promedio_retorno = total_retorno / cantidad_peliculas if cantidad_peliculas > 0 else 0\n",
    "    \n",
    "    return (f\"El actor {nombre_actor} ha participado en {cantidad_peliculas} filmaciones, \"\n",
    "            f\"el mismo ha conseguido un retorno de {total_retorno:.2f} con un promedio de {promedio_retorno:.2f} por filmación.\")\n",
    "\n",
    "# Ejemplo de uso\n",
    "print(get_actor('Robin Williams'))"
   ]
  },
  {
   "cell_type": "markdown",
   "metadata": {},
   "source": [
    "## 6 endpoint\n",
    "\n",
    "* def get_director( nombre_director ): Se ingresa el nombre de un director que se encuentre dentro de un dataset debiendo devolver el éxito del mismo medido a través del retorno. Además, deberá devolver el nombre de cada película con la fecha de lanzamiento, retorno individual, costo y ganancia de la misma."
   ]
  },
  {
   "cell_type": "code",
   "execution_count": 8,
   "metadata": {},
   "outputs": [
    {
     "name": "stdout",
     "output_type": "stream",
     "text": [
      "El director John Lasseter ha conseguido un retorno total de 145.95. Detalles de las películas dirigidas:\n",
      "Película: Toy Story - Fecha de lanzamiento: 1995-10-30 - Retorno: 12.45 - Costo: 30000000.0 - Ganancia: 373554033.0\n",
      "Película: Beauty and the Beast - Fecha de lanzamiento: 1991-11-13 - Retorno: 15.09 - Costo: 25000000.0 - Ganancia: 377350553.0\n",
      "Película: A Bug's Life - Fecha de lanzamiento: 1998-11-25 - Retorno: 3.03 - Costo: 120000000.0 - Ganancia: 363258859.0\n",
      "Película: Toy Story 2 - Fecha de lanzamiento: 1999-10-30 - Retorno: 5.53 - Costo: 90000000.0 - Ganancia: 497366869.0\n",
      "Película: Monsters, Inc. - Fecha de lanzamiento: 2001-11-01 - Retorno: 4.89 - Costo: 115000000.0 - Ganancia: 562816256.0\n",
      "Película: Finding Nemo - Fecha de lanzamiento: 2003-05-30 - Retorno: 10.00 - Costo: 94000000.0 - Ganancia: 940335536.0\n",
      "Película: The Incredibles - Fecha de lanzamiento: 2004-11-05 - Retorno: 6.86 - Costo: 92000000.0 - Ganancia: 631442092.0\n",
      "Película: Howl's Moving Castle - Fecha de lanzamiento: 2004-11-19 - Retorno: 9.78 - Costo: 24000000.0 - Ganancia: 234710455.0\n",
      "Película: Luxo Jr. - Fecha de lanzamiento: 1986-08-17 - Retorno: 0.00 - Costo: 0.0 - Ganancia: 0.0\n",
      "Película: Cars - Fecha de lanzamiento: 2006-06-08 - Retorno: 3.85 - Costo: 120000000.0 - Ganancia: 461983149.0\n",
      "Película: Ratatouille - Fecha de lanzamiento: 2007-06-22 - Retorno: 4.16 - Costo: 150000000.0 - Ganancia: 623722818.0\n",
      "Película: WALL·E - Fecha de lanzamiento: 2008-06-22 - Retorno: 2.90 - Costo: 180000000.0 - Ganancia: 521311860.0\n",
      "Película: Bolt - Fecha de lanzamiento: 2008-11-21 - Retorno: 2.07 - Costo: 150000000.0 - Ganancia: 309979994.0\n",
      "Película: Up - Fecha de lanzamiento: 2009-05-13 - Retorno: 4.20 - Costo: 175000000.0 - Ganancia: 735099082.0\n",
      "Película: Partly Cloudy - Fecha de lanzamiento: 2009-05-28 - Retorno: 0.00 - Costo: 0.0 - Ganancia: 0.0\n",
      "Película: The Princess and the Frog - Fecha de lanzamiento: 2009-12-08 - Retorno: 2.54 - Costo: 105000000.0 - Ganancia: 267045765.0\n",
      "Película: Toy Story 3 - Fecha de lanzamiento: 2010-06-16 - Retorno: 5.33 - Costo: 200000000.0 - Ganancia: 1066969703.0\n",
      "Película: Tangled - Fecha de lanzamiento: 2010-11-24 - Retorno: 2.28 - Costo: 260000000.0 - Ganancia: 591794936.0\n",
      "Película: Cars 2 - Fecha de lanzamiento: 2011-06-11 - Retorno: 2.80 - Costo: 200000000.0 - Ganancia: 559852396.0\n",
      "Película: John Carter - Fecha de lanzamiento: 2012-03-07 - Retorno: 1.09 - Costo: 260000000.0 - Ganancia: 284139100.0\n",
      "Película: The Ballad of Nessie - Fecha de lanzamiento: 2011-04-13 - Retorno: 0.00 - Costo: 0.0 - Ganancia: 0.0\n",
      "Película: Presto - Fecha de lanzamiento: 2008-06-18 - Retorno: 0.00 - Costo: 0.0 - Ganancia: 0.0\n",
      "Película: Jack-Jack Attack - Fecha de lanzamiento: 2004-12-31 - Retorno: 0.00 - Costo: 0.0 - Ganancia: 0.0\n",
      "Película: One Man Band - Fecha de lanzamiento: 2005-06-21 - Retorno: 0.00 - Costo: 0.0 - Ganancia: 0.0\n",
      "Película: Tin Toy - Fecha de lanzamiento: 1988-08-01 - Retorno: 0.00 - Costo: 0.0 - Ganancia: 0.0\n",
      "Película: Red's Dream - Fecha de lanzamiento: 1987-08-17 - Retorno: 0.00 - Costo: 0.0 - Ganancia: 0.0\n",
      "Película: Geri's Game - Fecha de lanzamiento: 1997-11-24 - Retorno: 0.00 - Costo: 0.0 - Ganancia: 0.0\n",
      "Película: Knick Knack - Fecha de lanzamiento: 1989-01-01 - Retorno: 0.00 - Costo: 0.0 - Ganancia: 0.0\n",
      "Película: Wreck-It Ralph - Fecha de lanzamiento: 2012-11-01 - Retorno: 2.86 - Costo: 165000000.0 - Ganancia: 471222889.0\n",
      "Película: Paperman - Fecha de lanzamiento: 2012-11-02 - Retorno: 0.00 - Costo: 0.0 - Ganancia: 0.0\n",
      "Película: Monsters University - Fecha de lanzamiento: 2013-06-20 - Retorno: 3.72 - Costo: 200000000.0 - Ganancia: 743559607.0\n",
      "Película: Toy Story of Terror! - Fecha de lanzamiento: 2013-10-15 - Retorno: 0.00 - Costo: 0.0 - Ganancia: 0.0\n",
      "Película: Frozen - Fecha de lanzamiento: 2013-11-27 - Retorno: 8.49 - Costo: 150000000.0 - Ganancia: 1274219009.0\n",
      "Película: La luna - Fecha de lanzamiento: 2011-01-01 - Retorno: 0.00 - Costo: 0.0 - Ganancia: 0.0\n",
      "Película: Mater and the Ghostlight - Fecha de lanzamiento: 2006-07-27 - Retorno: 0.00 - Costo: 0.0 - Ganancia: 0.0\n",
      "Película: Tangled Ever After - Fecha de lanzamiento: 2012-01-13 - Retorno: 0.00 - Costo: 0.0 - Ganancia: 0.0\n",
      "Película: Planes: Fire & Rescue - Fecha de lanzamiento: 2014-07-17 - Retorno: 3.02 - Costo: 50000000.0 - Ganancia: 151165787.0\n",
      "Película: Big Hero 6 - Fecha de lanzamiento: 2014-10-24 - Retorno: 3.95 - Costo: 165000000.0 - Ganancia: 652105443.0\n",
      "Película: Small Fry - Fecha de lanzamiento: 2011-11-23 - Retorno: 0.00 - Costo: 0.0 - Ganancia: 0.0\n",
      "Película: Secret of the Wings - Fecha de lanzamiento: 2012-08-17 - Retorno: 0.00 - Costo: 0.0 - Ganancia: 0.0\n",
      "Película: Tinker Bell and the Lost Treasure - Fecha de lanzamiento: 2009-09-03 - Retorno: 0.00 - Costo: 0.0 - Ganancia: 0.0\n",
      "Película: Partysaurus Rex - Fecha de lanzamiento: 2012-09-14 - Retorno: 0.00 - Costo: 0.0 - Ganancia: 0.0\n",
      "Película: The Legend of Mor'du - Fecha de lanzamiento: 2012-01-01 - Retorno: 0.00 - Costo: 0.0 - Ganancia: 0.0\n",
      "Película: Get a Horse! - Fecha de lanzamiento: 2013-11-27 - Retorno: 0.00 - Costo: 0.0 - Ganancia: 0.0\n",
      "Película: Frozen Fever - Fecha de lanzamiento: 2015-03-09 - Retorno: 0.00 - Costo: 0.0 - Ganancia: 0.0\n",
      "Película: Tinker Bell and the Legend of the NeverBeast - Fecha de lanzamiento: 2014-12-12 - Retorno: 0.00 - Costo: 0.0 - Ganancia: 0.0\n",
      "Película: Tinker Bell and the Pirate Fairy - Fecha de lanzamiento: 2014-02-13 - Retorno: 0.00 - Costo: 0.0 - Ganancia: 20300000.0\n",
      "Película: Tinker Bell and the Great Fairy Rescue - Fecha de lanzamiento: 2010-08-13 - Retorno: 0.00 - Costo: 0.0 - Ganancia: 0.0\n",
      "Película: Tinker Bell - Fecha de lanzamiento: 2008-10-27 - Retorno: 0.00 - Costo: 48000000.0 - Ganancia: 0.0\n",
      "Película: Inside Out - Fecha de lanzamiento: 2015-06-09 - Retorno: 4.90 - Costo: 175000000.0 - Ganancia: 857611174.0\n",
      "Película: The Good Dinosaur - Fecha de lanzamiento: 2015-11-14 - Retorno: 1.90 - Costo: 175000000.0 - Ganancia: 331926147.0\n",
      "Película: Prep & Landing - Fecha de lanzamiento: 2009-12-24 - Retorno: 0.00 - Costo: 0.0 - Ganancia: 0.0\n",
      "Película: Feast - Fecha de lanzamiento: 2014-11-07 - Retorno: 0.00 - Costo: 0.0 - Ganancia: 0.0\n",
      "Película: Lava - Fecha de lanzamiento: 2015-06-21 - Retorno: 0.00 - Costo: 0.0 - Ganancia: 0.0\n",
      "Película: Sanjay's Super Team - Fecha de lanzamiento: 2015-11-25 - Retorno: 0.00 - Costo: 0.0 - Ganancia: 0.0\n",
      "Película: Zootopia - Fecha de lanzamiento: 2016-02-11 - Retorno: 6.83 - Costo: 150000000.0 - Ganancia: 1023784195.0\n",
      "Película: Finding Dory - Fecha de lanzamiento: 2016-06-16 - Retorno: 5.14 - Costo: 200000000.0 - Ganancia: 1028570889.0\n",
      "Película: Piper - Fecha de lanzamiento: 2016-06-16 - Retorno: 0.00 - Costo: 0.0 - Ganancia: 0.0\n",
      "Película: How to Hook Up Your Home Theater - Fecha de lanzamiento: 2007-12-21 - Retorno: 0.00 - Costo: 0.0 - Ganancia: 0.0\n",
      "Película: Tick Tock Tale - Fecha de lanzamiento: 2010-06-10 - Retorno: 0.00 - Costo: 0.0 - Ganancia: 0.0\n",
      "Película: Air Mater - Fecha de lanzamiento: 2011-08-04 - Retorno: 0.00 - Costo: 0.0 - Ganancia: 0.0\n",
      "Película: Riley's First Date? - Fecha de lanzamiento: 2015-11-03 - Retorno: 0.00 - Costo: 0.0 - Ganancia: 0.0\n",
      "Película: Moana - Fecha de lanzamiento: 2016-11-23 - Retorno: 4.29 - Costo: 150000000.0 - Ganancia: 643034466.0\n",
      "Película: Inner Workings - Fecha de lanzamiento: 2016-11-23 - Retorno: 0.00 - Costo: 0.0 - Ganancia: 0.0\n",
      "Película: Cars 3 - Fecha de lanzamiento: 2017-06-15 - Retorno: 2.00 - Costo: 175000000.0 - Ganancia: 350170057.0\n"
     ]
    }
   ],
   "source": [
    "import pandas as pd\n",
    "\n",
    "# Leer el archivo parquet\n",
    "movies6 = pd.read_parquet('../Datasets/union_mcrew.parquet')\n",
    "\n",
    "# Asegurarse de que release_date esté en formato de fecha\n",
    "movies6['release_date'] = pd.to_datetime(movies6['release_date'], errors='coerce')\n",
    "\n",
    "# Crear la función\n",
    "def get_director(nombre_director):\n",
    "    # Filtrar el DataFrame por el nombre del director en la columna 'name'\n",
    "    peliculas_director = movies6[movies6['name'].str.lower() == nombre_director.lower()]\n",
    "    \n",
    "    if peliculas_director.empty:\n",
    "        return f\"No se encontró ninguna película dirigida por '{nombre_director}'.\"\n",
    "    \n",
    "    # Eliminar duplicados en función del título de la película\n",
    "    peliculas_director = peliculas_director.drop_duplicates(subset='title')\n",
    "    \n",
    "    # Inicializar el total de retorno\n",
    "    total_retorno = 0\n",
    "    \n",
    "    # Crear una lista para almacenar los detalles de las películas\n",
    "    detalles_peliculas = []\n",
    "    \n",
    "    for _, pelicula in peliculas_director.iterrows():\n",
    "        # Obtener detalles de la película\n",
    "        titulo = pelicula['title']\n",
    "        fecha_lanzamiento = pelicula['release_date'].date() if pd.notnull(pelicula['release_date']) else 'Fecha desconocida'\n",
    "        presupuesto = pelicula['budget'] if pd.notnull(pelicula['budget']) else 'Desconocido'\n",
    "        ganancia = pelicula['revenue'] if pd.notnull(pelicula['revenue']) else 'Desconocido'\n",
    "        retorno = pelicula['return'] if pd.notnull(pelicula['return']) else 0\n",
    "        \n",
    "        # Sumar el retorno al total\n",
    "        total_retorno += retorno\n",
    "        \n",
    "        # Agregar detalles a la lista\n",
    "        detalles_peliculas.append({\n",
    "            'titulo': titulo,\n",
    "            'fecha_lanzamiento': fecha_lanzamiento,\n",
    "            'retorno': retorno,\n",
    "            'presupuesto': presupuesto,\n",
    "            'ganancia': ganancia\n",
    "        })\n",
    "    \n",
    "    # Crear la respuesta con los detalles de cada película\n",
    "    detalles_peliculas_str = \"\"\n",
    "    for detalle in detalles_peliculas:\n",
    "        detalles_peliculas_str += (f\"\\nPelícula: {detalle['titulo']} - Fecha de lanzamiento: {detalle['fecha_lanzamiento']} - \"\n",
    "                                f\"Retorno: {detalle['retorno']:.2f} - Costo: {detalle['presupuesto']} - Ganancia: {detalle['ganancia']}\")\n",
    "    \n",
    "    # Retornar el resumen del director\n",
    "    return (f\"El director {nombre_director} ha conseguido un retorno total de {total_retorno:.2f}. \"\n",
    "            f\"Detalles de las películas dirigidas:{detalles_peliculas_str}\")\n",
    "\n",
    "# Ejemplo de uso\n",
    "print(get_director('John Lasseter'))\n"
   ]
  }
 ],
 "metadata": {
  "kernelspec": {
   "display_name": "venv",
   "language": "python",
   "name": "python3"
  },
  "language_info": {
   "codemirror_mode": {
    "name": "ipython",
    "version": 3
   },
   "file_extension": ".py",
   "mimetype": "text/x-python",
   "name": "python",
   "nbconvert_exporter": "python",
   "pygments_lexer": "ipython3",
   "version": "3.12.3"
  }
 },
 "nbformat": 4,
 "nbformat_minor": 2
}
