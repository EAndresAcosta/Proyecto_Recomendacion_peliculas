{
 "cells": [
  {
   "cell_type": "markdown",
   "metadata": {},
   "source": [
    "# Pruebas de los endpoints"
   ]
  },
  {
   "cell_type": "markdown",
   "metadata": {},
   "source": [
    "## 1 endpoints\n",
    "* def cantidad_filmaciones_mes( Mes ): Se ingresa un mes en idioma Español. Debe devolver la cantidad de películas que fueron estrenadas en el mes consultado en la totalidad del dataset.\n",
    "\n",
    "Ejemplo de retorno: X cantidad de películas fueron estrenadas en el mes de X"
   ]
  },
  {
   "cell_type": "code",
   "execution_count": 4,
   "metadata": {},
   "outputs": [
    {
     "name": "stdout",
     "output_type": "stream",
     "text": [
      "11425 cantidad de películas fueron estrenadas en el mes de Enero.\n"
     ]
    }
   ],
   "source": [
    "import pandas as pd\n",
    "\n",
    "movies = pd.read_parquet('../Datasets/movies_compressed.parquet')\n",
    "\n",
    "# Asegurarse de que release_date esté en formato de fecha\n",
    "movies['release_date'] = pd.to_datetime(movies['release_date'], errors='coerce')\n",
    "\n",
    "# Crear la función\n",
    "def cantidad_filmaciones_mes(mes):\n",
    "    # Crear un diccionario para mapear nombres de meses en español con números\n",
    "    meses = {\n",
    "        'enero': 1, 'febrero': 2, 'marzo': 3, 'abril': 4,\n",
    "        'mayo': 5, 'junio': 6, 'julio': 7, 'agosto': 8,\n",
    "        'septiembre': 9, 'octubre': 10, 'noviembre': 11, 'diciembre': 12\n",
    "    }\n",
    "    \n",
    "    # Convertir el mes ingresado a su correspondiente número\n",
    "    mes_numero = meses.get(mes.lower())\n",
    "    \n",
    "    if not mes_numero:\n",
    "        return \"Mes ingresado no es válido.\"\n",
    "    \n",
    "    # Filtrar el dataframe por el mes\n",
    "    cantidad = movies[movies['release_date'].dt.month == mes_numero].shape[0]\n",
    "    \n",
    "    return f\"{cantidad} cantidad de películas fueron estrenadas en el mes de {mes.capitalize()}.\"\n",
    "\n",
    "# Ejemplo\n",
    "print(cantidad_filmaciones_mes('enero'))\n"
   ]
  },
  {
   "cell_type": "markdown",
   "metadata": {},
   "source": [
    "## 2 endpoint\n",
    "\n",
    "* def cantidad_filmaciones_dia( Dia ): Se ingresa un día en idioma Español. Debe devolver la cantidad de películas que fueron estrenadas en día consultado en la totalidad del dataset.\n",
    "\n",
    "Ejemplo de retorno: X cantidad de películas fueron estrenadas en los días X"
   ]
  },
  {
   "cell_type": "code",
   "execution_count": 7,
   "metadata": {},
   "outputs": [
    {
     "name": "stdout",
     "output_type": "stream",
     "text": [
      "6844 cantidad de películas fueron estrenadas en los días Lunes.\n"
     ]
    }
   ],
   "source": [
    "import pandas as pd\n",
    "\n",
    "movies2 = pd.read_parquet('../Datasets/movies_compressed.parquet')\n",
    "\n",
    "# Asegurarse de que release_date esté en formato de fecha\n",
    "movies2['release_date'] = pd.to_datetime(movies2['release_date'], errors='coerce')\n",
    "\n",
    "# Crear la función\n",
    "def cantidad_filmaciones_dia(dia):\n",
    "    # Crear un diccionario para mapear nombres de días en español con números\n",
    "    dias_semana = {\n",
    "        'lunes': 0, 'martes': 1, 'miércoles': 2, 'miercoles': 2, 'jueves': 3,\n",
    "        'viernes': 4, 'sábado': 5, 'sabado': 5, 'domingo': 6\n",
    "    }\n",
    "    \n",
    "    # Convertir el día ingresado a su correspondiente número\n",
    "    dia_numero = dias_semana.get(dia.lower())\n",
    "    \n",
    "    if dia_numero is None:\n",
    "        return \"Día ingresado no es válido.\"\n",
    "    \n",
    "    # Filtrar el dataframe por el día de la semana\n",
    "    cantidad = movies2[movies2['release_date'].dt.dayofweek == dia_numero].shape[0]\n",
    "    \n",
    "    return f\"{cantidad} cantidad de películas fueron estrenadas en los días {dia.capitalize()}.\"\n",
    "\n",
    "# Ejemplo\n",
    "print(cantidad_filmaciones_dia('lunes'))\n"
   ]
  },
  {
   "cell_type": "markdown",
   "metadata": {},
   "source": [
    "## 3 endpoint\n",
    "\n",
    "* def score_titulo( titulo_de_la_filmación ): Se ingresa el título de una filmación esperando como respuesta el título, el año de estreno y el score.\n",
    "\n",
    "Ejemplo de retorno: La película X fue estrenada en el año X con un score/popularidad de X"
   ]
  },
  {
   "cell_type": "code",
   "execution_count": 9,
   "metadata": {},
   "outputs": [
    {
     "name": "stdout",
     "output_type": "stream",
     "text": [
      "La película Toy Story fue estrenada en el año 1995 con un score/popularidad de 21.95\n"
     ]
    }
   ],
   "source": [
    "import pandas as pd\n",
    "\n",
    "movies3 = pd.read_parquet('../Datasets/movies_compressed.parquet')\n",
    "\n",
    "# Asegurarse de que release_date esté en formato de fecha\n",
    "movies3['release_date'] = pd.to_datetime(movies3['release_date'], errors='coerce')\n",
    "\n",
    "# Asegurarse de que popularity esté en formato numérico\n",
    "movies3['popularity'] = pd.to_numeric(movies3['popularity'], errors='coerce')\n",
    "\n",
    "# Crear la función\n",
    "def score_titulo(titulo_de_la_filmacion):\n",
    "    # Filtrar el DataFrame por el título de la filmación\n",
    "    pelicula = movies3[movies3['title'].str.lower() == titulo_de_la_filmacion.lower()]\n",
    "    \n",
    "    if pelicula.empty:\n",
    "        return f\"No se encontró ninguna película con el título '{titulo_de_la_filmacion}'.\"\n",
    "    \n",
    "    # Extraer la información relevante\n",
    "    titulo = pelicula.iloc[0]['title']\n",
    "    anio_estreno = pelicula.iloc[0]['release_date'].year\n",
    "    score = round(pelicula.iloc[0]['popularity'], 2) # Suponiendo que 'popularity' es la columna de score\n",
    "    \n",
    "    return f\"La película {titulo} fue estrenada en el año {anio_estreno} con un score/popularidad de {score}\"\n",
    "\n",
    "# Ejemplo\n",
    "print(score_titulo('Toy Story'))\n"
   ]
  },
  {
   "cell_type": "markdown",
   "metadata": {},
   "source": [
    "## 4 endpoint\n",
    "\n",
    "* def votos_titulo( titulo_de_la_filmación ): Se ingresa el título de una filmación esperando como respuesta el título, la cantidad de votos y el valor promedio de las votaciones. La misma variable deberá de contar con al menos 2000 valoraciones, caso contrario, debemos contar con un mensaje avisando que no cumple esta condición y que por ende, no se devuelve ningun valor.\n",
    "\n",
    "Ejemplo de retorno: La película X fue estrenada en el año X. La misma cuenta con un total de X valoraciones, con un promedio de X"
   ]
  },
  {
   "cell_type": "code",
   "execution_count": 18,
   "metadata": {},
   "outputs": [
    {
     "name": "stdout",
     "output_type": "stream",
     "text": [
      "La película Toy Story fue estrenada en el año 1995. Con un total de 5415.0 valoraciones, con un promedio de 7.7\n"
     ]
    }
   ],
   "source": [
    "import pandas as pd\n",
    "\n",
    "movies4 = pd.read_parquet('../Datasets/movies.parquet')\n",
    "\n",
    "# Asegurarse de que release_date esté en formato de fecha\n",
    "movies4['release_date'] = pd.to_datetime(movies4['release_date'], errors='coerce')\n",
    "\n",
    "# Crear la función\n",
    "def votos_titulo(titulo_de_la_filmacion):\n",
    "    # Filtrar el DataFrame por el título de la filmación\n",
    "    pelicula = movies4[movies4['title'].str.lower() == titulo_de_la_filmacion.lower()]\n",
    "    \n",
    "    if pelicula.empty:\n",
    "        return f\"No se encontró ninguna película con el título '{titulo_de_la_filmacion}'.\"\n",
    "    \n",
    "    # Extraer la cantidad de votos y el promedio de las votaciones\n",
    "    votos = pelicula.iloc[0]['vote_count']\n",
    "    promedio_votos = pelicula.iloc[0]['vote_average']\n",
    "    \n",
    "    if votos < 2000:\n",
    "        return f\"La película {pelicula.iloc[0]['title']} no cumple con el mínimo de 2000 valoraciones. Tiene {votos} valoraciones.\"\n",
    "\n",
    "    # Extraer el título y el año de estreno\n",
    "    titulo = pelicula.iloc[0]['title']\n",
    "    anio_estreno = pelicula.iloc[0]['release_date'].year\n",
    "    \n",
    "    return f\"La película {titulo} fue estrenada en el año {anio_estreno}. Con un total de {votos} valoraciones, con un promedio de {promedio_votos}\"\n",
    "\n",
    "# Ejemplo\n",
    "print(votos_titulo('toy story'))\n"
   ]
  },
  {
   "cell_type": "markdown",
   "metadata": {},
   "source": [
    "## 5 endpoint\n",
    "\n",
    "* def get_actor( nombre_actor ): Se ingresa el nombre de un actor que se encuentre dentro de un dataset debiendo devolver el éxito del mismo medido a través del retorno. Además, la cantidad de películas que en las que ha participado y el promedio de retorno. La definición no deberá considerar directores.\n",
    "\n",
    "Ejemplo de retorno: El actor X ha participado de X cantidad de filmaciones, el mismo ha conseguido un retorno de X con un promedio de X por filmación"
   ]
  },
  {
   "cell_type": "code",
   "execution_count": 26,
   "metadata": {},
   "outputs": [
    {
     "name": "stdout",
     "output_type": "stream",
     "text": [
      "El actor Robin Williams ha participado en 82 filmaciones, el mismo ha conseguido un retorno de 155.69 con un promedio de 1.90 por filmación.\n"
     ]
    }
   ],
   "source": [
    "import pandas as pd\n",
    "\n",
    "# Leer el archivo parquet\n",
    "movies5 = pd.read_parquet('../Datasets/endpoint_casting.parquet')\n",
    "\n",
    "# Asegurarse de que release_date esté en formato de fecha\n",
    "movies5['release_date'] = pd.to_datetime(movies5['release_date'], errors='coerce')\n",
    "\n",
    "# Asegurarse de que 'name' no tenga valores nulos\n",
    "if movies5['name'].isnull().any():\n",
    "    movies5['name'] = movies5['name'].fillna('')  # Rellenar valores nulos con cadena vacía\n",
    "\n",
    "# Crear la función\n",
    "def get_actor(nombre_actor):\n",
    "    # Filtrar el DataFrame por el nombre del actor en la columna 'name'\n",
    "    peliculas_actor = movies5[movies5['name'].apply(lambda x: nombre_actor.lower() in x.lower())]\n",
    "    \n",
    "    if peliculas_actor.empty:\n",
    "        return f\"No se encontró ninguna película con el actor '{nombre_actor}'.\"\n",
    "    \n",
    "    # Eliminar duplicados basados en el 'id' de la película\n",
    "    peliculas_actor_unicas = peliculas_actor.drop_duplicates(subset='id')\n",
    "    \n",
    "    # Calcular el éxito del actor medido a través del retorno\n",
    "    total_retorno = peliculas_actor_unicas['return'].sum()\n",
    "    cantidad_peliculas = peliculas_actor_unicas.shape[0]\n",
    "    promedio_retorno = total_retorno / cantidad_peliculas if cantidad_peliculas > 0 else 0\n",
    "    \n",
    "    return (f\"El actor {nombre_actor} ha participado en {cantidad_peliculas} filmaciones, \"\n",
    "            f\"el mismo ha conseguido un retorno de {total_retorno:.2f} con un promedio de {promedio_retorno:.2f} por filmación.\")\n",
    "\n",
    "# Ejemplo de uso\n",
    "print(get_actor('Robin Williams'))\n"
   ]
  },
  {
   "cell_type": "markdown",
   "metadata": {},
   "source": [
    "## 6 endpoint\n",
    "\n",
    "* def get_director( nombre_director ): Se ingresa el nombre de un director que se encuentre dentro de un dataset debiendo devolver el éxito del mismo medido a través del retorno. Además, deberá devolver el nombre de cada película con la fecha de lanzamiento, retorno individual, costo y ganancia de la misma."
   ]
  },
  {
   "cell_type": "code",
   "execution_count": 28,
   "metadata": {},
   "outputs": [
    {
     "name": "stdout",
     "output_type": "stream",
     "text": [
      "{'director': 'John Lasseter', 'total_return': 145.9549392653437, 'movies': [{'titulo': 'Toy Story', 'fecha_lanzamiento': datetime.date(1995, 10, 30), 'retorno': 12.4518011, 'presupuesto': 30000000.0, 'ganancia': 373554033.0}, {'titulo': 'Beauty and the Beast', 'fecha_lanzamiento': datetime.date(1991, 11, 13), 'retorno': 15.09402212, 'presupuesto': 25000000.0, 'ganancia': 377350553.0}, {'titulo': \"A Bug's Life\", 'fecha_lanzamiento': datetime.date(1998, 11, 25), 'retorno': 3.027157158333333, 'presupuesto': 120000000.0, 'ganancia': 363258859.0}, {'titulo': 'Toy Story 2', 'fecha_lanzamiento': datetime.date(1999, 10, 30), 'retorno': 5.526298544444445, 'presupuesto': 90000000.0, 'ganancia': 497366869.0}, {'titulo': 'Monsters, Inc.', 'fecha_lanzamiento': datetime.date(2001, 11, 1), 'retorno': 4.8940544, 'presupuesto': 115000000.0, 'ganancia': 562816256.0}, {'titulo': 'Finding Nemo', 'fecha_lanzamiento': datetime.date(2003, 5, 30), 'retorno': 10.003569531914891, 'presupuesto': 94000000.0, 'ganancia': 940335536.0}, {'titulo': 'The Incredibles', 'fecha_lanzamiento': datetime.date(2004, 11, 5), 'retorno': 6.863501, 'presupuesto': 92000000.0, 'ganancia': 631442092.0}, {'titulo': \"Howl's Moving Castle\", 'fecha_lanzamiento': datetime.date(2004, 11, 19), 'retorno': 9.779602291666668, 'presupuesto': 24000000.0, 'ganancia': 234710455.0}, {'titulo': 'Luxo Jr.', 'fecha_lanzamiento': datetime.date(1986, 8, 17), 'retorno': 0.0, 'presupuesto': 0.0, 'ganancia': 0.0}, {'titulo': 'Cars', 'fecha_lanzamiento': datetime.date(2006, 6, 8), 'retorno': 3.849859575, 'presupuesto': 120000000.0, 'ganancia': 461983149.0}, {'titulo': 'Ratatouille', 'fecha_lanzamiento': datetime.date(2007, 6, 22), 'retorno': 4.15815212, 'presupuesto': 150000000.0, 'ganancia': 623722818.0}, {'titulo': 'WALL·E', 'fecha_lanzamiento': datetime.date(2008, 6, 22), 'retorno': 2.896177, 'presupuesto': 180000000.0, 'ganancia': 521311860.0}, {'titulo': 'Bolt', 'fecha_lanzamiento': datetime.date(2008, 11, 21), 'retorno': 2.0665332933333334, 'presupuesto': 150000000.0, 'ganancia': 309979994.0}, {'titulo': 'Up', 'fecha_lanzamiento': datetime.date(2009, 5, 13), 'retorno': 4.200566182857143, 'presupuesto': 175000000.0, 'ganancia': 735099082.0}, {'titulo': 'Partly Cloudy', 'fecha_lanzamiento': datetime.date(2009, 5, 28), 'retorno': 0.0, 'presupuesto': 0.0, 'ganancia': 0.0}, {'titulo': 'The Princess and the Frog', 'fecha_lanzamiento': datetime.date(2009, 12, 8), 'retorno': 2.543293, 'presupuesto': 105000000.0, 'ganancia': 267045765.0}, {'titulo': 'Toy Story 3', 'fecha_lanzamiento': datetime.date(2010, 6, 16), 'retorno': 5.334848515, 'presupuesto': 200000000.0, 'ganancia': 1066969703.0}, {'titulo': 'Tangled', 'fecha_lanzamiento': datetime.date(2010, 11, 24), 'retorno': 2.2761343692307694, 'presupuesto': 260000000.0, 'ganancia': 591794936.0}, {'titulo': 'Cars 2', 'fecha_lanzamiento': datetime.date(2011, 6, 11), 'retorno': 2.79926198, 'presupuesto': 200000000.0, 'ganancia': 559852396.0}, {'titulo': 'John Carter', 'fecha_lanzamiento': datetime.date(2012, 3, 7), 'retorno': 1.0928426923076924, 'presupuesto': 260000000.0, 'ganancia': 284139100.0}, {'titulo': 'The Ballad of Nessie', 'fecha_lanzamiento': datetime.date(2011, 4, 13), 'retorno': 0.0, 'presupuesto': 0.0, 'ganancia': 0.0}, {'titulo': 'Presto', 'fecha_lanzamiento': datetime.date(2008, 6, 18), 'retorno': 0.0, 'presupuesto': 0.0, 'ganancia': 0.0}, {'titulo': 'Jack-Jack Attack', 'fecha_lanzamiento': datetime.date(2004, 12, 31), 'retorno': 0.0, 'presupuesto': 0.0, 'ganancia': 0.0}, {'titulo': 'One Man Band', 'fecha_lanzamiento': datetime.date(2005, 6, 21), 'retorno': 0.0, 'presupuesto': 0.0, 'ganancia': 0.0}, {'titulo': 'Tin Toy', 'fecha_lanzamiento': datetime.date(1988, 8, 1), 'retorno': 0.0, 'presupuesto': 0.0, 'ganancia': 0.0}, {'titulo': \"Red's Dream\", 'fecha_lanzamiento': datetime.date(1987, 8, 17), 'retorno': 0.0, 'presupuesto': 0.0, 'ganancia': 0.0}, {'titulo': \"Geri's Game\", 'fecha_lanzamiento': datetime.date(1997, 11, 24), 'retorno': 0.0, 'presupuesto': 0.0, 'ganancia': 0.0}, {'titulo': 'Knick Knack', 'fecha_lanzamiento': datetime.date(1989, 1, 1), 'retorno': 0.0, 'presupuesto': 0.0, 'ganancia': 0.0}, {'titulo': 'Wreck-It Ralph', 'fecha_lanzamiento': datetime.date(2012, 11, 1), 'retorno': 2.855896296969697, 'presupuesto': 165000000.0, 'ganancia': 471222889.0}, {'titulo': 'Paperman', 'fecha_lanzamiento': datetime.date(2012, 11, 2), 'retorno': 0.0, 'presupuesto': 0.0, 'ganancia': 0.0}, {'titulo': 'Monsters University', 'fecha_lanzamiento': datetime.date(2013, 6, 20), 'retorno': 3.717798035, 'presupuesto': 200000000.0, 'ganancia': 743559607.0}, {'titulo': 'Toy Story of Terror!', 'fecha_lanzamiento': datetime.date(2013, 10, 15), 'retorno': 0.0, 'presupuesto': 0.0, 'ganancia': 0.0}, {'titulo': 'Frozen', 'fecha_lanzamiento': datetime.date(2013, 11, 27), 'retorno': 8.494793393333333, 'presupuesto': 150000000.0, 'ganancia': 1274219009.0}, {'titulo': 'La luna', 'fecha_lanzamiento': datetime.date(2011, 1, 1), 'retorno': 0.0, 'presupuesto': 0.0, 'ganancia': 0.0}, {'titulo': 'Mater and the Ghostlight', 'fecha_lanzamiento': datetime.date(2006, 7, 27), 'retorno': 0.0, 'presupuesto': 0.0, 'ganancia': 0.0}, {'titulo': 'Tangled Ever After', 'fecha_lanzamiento': datetime.date(2012, 1, 13), 'retorno': 0.0, 'presupuesto': 0.0, 'ganancia': 0.0}, {'titulo': 'Planes: Fire & Rescue', 'fecha_lanzamiento': datetime.date(2014, 7, 17), 'retorno': 3.02331574, 'presupuesto': 50000000.0, 'ganancia': 151165787.0}, {'titulo': 'Big Hero 6', 'fecha_lanzamiento': datetime.date(2014, 10, 24), 'retorno': 3.9521542, 'presupuesto': 165000000.0, 'ganancia': 652105443.0}, {'titulo': 'Small Fry', 'fecha_lanzamiento': datetime.date(2011, 11, 23), 'retorno': 0.0, 'presupuesto': 0.0, 'ganancia': 0.0}, {'titulo': 'Secret of the Wings', 'fecha_lanzamiento': datetime.date(2012, 8, 17), 'retorno': 0.0, 'presupuesto': 0.0, 'ganancia': 0.0}, {'titulo': 'Tinker Bell and the Lost Treasure', 'fecha_lanzamiento': datetime.date(2009, 9, 3), 'retorno': 0.0, 'presupuesto': 0.0, 'ganancia': 0.0}, {'titulo': 'Partysaurus Rex', 'fecha_lanzamiento': datetime.date(2012, 9, 14), 'retorno': 0.0, 'presupuesto': 0.0, 'ganancia': 0.0}, {'titulo': \"The Legend of Mor'du\", 'fecha_lanzamiento': datetime.date(2012, 1, 1), 'retorno': 0.0, 'presupuesto': 0.0, 'ganancia': 0.0}, {'titulo': 'Get a Horse!', 'fecha_lanzamiento': datetime.date(2013, 11, 27), 'retorno': 0.0, 'presupuesto': 0.0, 'ganancia': 0.0}, {'titulo': 'Frozen Fever', 'fecha_lanzamiento': datetime.date(2015, 3, 9), 'retorno': 0.0, 'presupuesto': 0.0, 'ganancia': 0.0}, {'titulo': 'Tinker Bell and the Legend of the NeverBeast', 'fecha_lanzamiento': datetime.date(2014, 12, 12), 'retorno': 0.0, 'presupuesto': 0.0, 'ganancia': 0.0}, {'titulo': 'Tinker Bell and the Pirate Fairy', 'fecha_lanzamiento': datetime.date(2014, 2, 13), 'retorno': 0.0, 'presupuesto': 0.0, 'ganancia': 20300000.0}, {'titulo': 'Tinker Bell and the Great Fairy Rescue', 'fecha_lanzamiento': datetime.date(2010, 8, 13), 'retorno': 0.0, 'presupuesto': 0.0, 'ganancia': 0.0}, {'titulo': 'Tinker Bell', 'fecha_lanzamiento': datetime.date(2008, 10, 27), 'retorno': 0.0, 'presupuesto': 48000000.0, 'ganancia': 0.0}, {'titulo': 'Inside Out', 'fecha_lanzamiento': datetime.date(2015, 6, 9), 'retorno': 4.90063528, 'presupuesto': 175000000.0, 'ganancia': 857611174.0}, {'titulo': 'The Good Dinosaur', 'fecha_lanzamiento': datetime.date(2015, 11, 14), 'retorno': 1.89672084, 'presupuesto': 175000000.0, 'ganancia': 331926147.0}, {'titulo': 'Prep & Landing', 'fecha_lanzamiento': datetime.date(2009, 12, 24), 'retorno': 0.0, 'presupuesto': 0.0, 'ganancia': 0.0}, {'titulo': 'Feast', 'fecha_lanzamiento': datetime.date(2014, 11, 7), 'retorno': 0.0, 'presupuesto': 0.0, 'ganancia': 0.0}, {'titulo': 'Lava', 'fecha_lanzamiento': datetime.date(2015, 6, 21), 'retorno': 0.0, 'presupuesto': 0.0, 'ganancia': 0.0}, {'titulo': \"Sanjay's Super Team\", 'fecha_lanzamiento': datetime.date(2015, 11, 25), 'retorno': 0.0, 'presupuesto': 0.0, 'ganancia': 0.0}, {'titulo': 'Zootopia', 'fecha_lanzamiento': datetime.date(2016, 2, 11), 'retorno': 6.825227966666667, 'presupuesto': 150000000.0, 'ganancia': 1023784195.0}, {'titulo': 'Finding Dory', 'fecha_lanzamiento': datetime.date(2016, 6, 16), 'retorno': 5.142854445, 'presupuesto': 200000000.0, 'ganancia': 1028570889.0}, {'titulo': 'Piper', 'fecha_lanzamiento': datetime.date(2016, 6, 16), 'retorno': 0.0, 'presupuesto': 0.0, 'ganancia': 0.0}, {'titulo': 'How to Hook Up Your Home Theater', 'fecha_lanzamiento': datetime.date(2007, 12, 21), 'retorno': 0.0, 'presupuesto': 0.0, 'ganancia': 0.0}, {'titulo': 'Tick Tock Tale', 'fecha_lanzamiento': datetime.date(2010, 6, 10), 'retorno': 0.0, 'presupuesto': 0.0, 'ganancia': 0.0}, {'titulo': 'Air Mater', 'fecha_lanzamiento': datetime.date(2011, 8, 4), 'retorno': 0.0, 'presupuesto': 0.0, 'ganancia': 0.0}, {'titulo': \"Riley's First Date?\", 'fecha_lanzamiento': datetime.date(2015, 11, 3), 'retorno': 0.0, 'presupuesto': 0.0, 'ganancia': 0.0}, {'titulo': 'Moana', 'fecha_lanzamiento': datetime.date(2016, 11, 23), 'retorno': 4.28689644, 'presupuesto': 150000000.0, 'ganancia': 643034466.0}, {'titulo': 'Inner Workings', 'fecha_lanzamiento': datetime.date(2016, 11, 23), 'retorno': 0.0, 'presupuesto': 0.0, 'ganancia': 0.0}, {'titulo': 'Cars 3', 'fecha_lanzamiento': datetime.date(2017, 6, 15), 'retorno': 2.000971754285714, 'presupuesto': 175000000.0, 'ganancia': 350170057.0}]}\n"
     ]
    }
   ],
   "source": [
    "import pandas as pd\n",
    "\n",
    "# Leer el archivo parquet\n",
    "movies6 = pd.read_parquet('../Datasets/endpoint_crew.parquet')\n",
    "\n",
    "# Asegurarse de que release_date esté en formato de fecha\n",
    "movies6['release_date'] = pd.to_datetime(movies6['release_date'], errors='coerce')\n",
    "\n",
    "# Crear la función\n",
    "def get_director(nombre_director):\n",
    "    # Filtrar el DataFrame por el nombre del director en la columna 'name'\n",
    "    peliculas_director = movies6[movies6['name'].str.lower() == nombre_director.lower()]\n",
    "    \n",
    "    if peliculas_director.empty:\n",
    "        return f\"No se encontró ninguna película dirigida por '{nombre_director}'.\"\n",
    "    \n",
    "    # Eliminar duplicados en función del título de la película\n",
    "    peliculas_director = peliculas_director.drop_duplicates(subset='title')\n",
    "    \n",
    "    # Inicializar el total de retorno\n",
    "    total_retorno = 0\n",
    "    \n",
    "    # Crear una lista para almacenar los detalles de las películas\n",
    "    detalles_peliculas = []\n",
    "    \n",
    "    for _, pelicula in peliculas_director.iterrows():\n",
    "        # Obtener detalles de la película\n",
    "        titulo = pelicula['title']\n",
    "        fecha_lanzamiento = pelicula['release_date'].date() if pd.notnull(pelicula['release_date']) else 'Fecha desconocida'\n",
    "        presupuesto = pelicula['budget'] if pd.notnull(pelicula['budget']) else 'Desconocido'\n",
    "        ganancia = pelicula['revenue'] if pd.notnull(pelicula['revenue']) else 'Desconocido'\n",
    "        retorno = pelicula['return'] if pd.notnull(pelicula['return']) else 0\n",
    "        \n",
    "        # Sumar el retorno al total\n",
    "        total_retorno += retorno\n",
    "        \n",
    "        # Agregar detalles a la lista\n",
    "        detalles_peliculas.append({\n",
    "            'titulo': titulo,\n",
    "            'fecha_lanzamiento': fecha_lanzamiento,\n",
    "            'retorno': retorno,\n",
    "            'presupuesto': presupuesto,\n",
    "            'ganancia': ganancia\n",
    "        })\n",
    "    \n",
    "    # Crear el diccionario de respuesta\n",
    "    resultado = {\n",
    "        'director': nombre_director,\n",
    "        'total_return': total_retorno,\n",
    "        'movies': detalles_peliculas\n",
    "    }\n",
    "    \n",
    "    return resultado\n",
    "\n",
    "# Ejemplo de uso\n",
    "print(get_director('John Lasseter'))\n"
   ]
  }
 ],
 "metadata": {
  "kernelspec": {
   "display_name": "venv",
   "language": "python",
   "name": "python3"
  },
  "language_info": {
   "codemirror_mode": {
    "name": "ipython",
    "version": 3
   },
   "file_extension": ".py",
   "mimetype": "text/x-python",
   "name": "python",
   "nbconvert_exporter": "python",
   "pygments_lexer": "ipython3",
   "version": "3.12.3"
  }
 },
 "nbformat": 4,
 "nbformat_minor": 2
}
